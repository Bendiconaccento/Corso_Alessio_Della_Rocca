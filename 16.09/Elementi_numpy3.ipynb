{
 "cells": [
  {
   "cell_type": "code",
   "execution_count": 1,
   "metadata": {},
   "outputs": [],
   "source": [
    "import numpy as np"
   ]
  },
  {
   "cell_type": "code",
   "execution_count": 2,
   "metadata": {},
   "outputs": [
    {
     "name": "stdout",
     "output_type": "stream",
     "text": [
      "[ 0.          0.20408163  0.40816327  0.6122449   0.81632653  1.02040816\n",
      "  1.2244898   1.42857143  1.63265306  1.83673469  2.04081633  2.24489796\n",
      "  2.44897959  2.65306122  2.85714286  3.06122449  3.26530612  3.46938776\n",
      "  3.67346939  3.87755102  4.08163265  4.28571429  4.48979592  4.69387755\n",
      "  4.89795918  5.10204082  5.30612245  5.51020408  5.71428571  5.91836735\n",
      "  6.12244898  6.32653061  6.53061224  6.73469388  6.93877551  7.14285714\n",
      "  7.34693878  7.55102041  7.75510204  7.95918367  8.16326531  8.36734694\n",
      "  8.57142857  8.7755102   8.97959184  9.18367347  9.3877551   9.59183673\n",
      "  9.79591837 10.        ]\n"
     ]
    }
   ],
   "source": [
    "#crea un array di 50 numeri equidistanti tra 0 e 1\n",
    "arr = np.linspace(0,10,50)\n",
    "print(arr)"
   ]
  },
  {
   "cell_type": "code",
   "execution_count": 5,
   "metadata": {},
   "outputs": [
    {
     "name": "stdout",
     "output_type": "stream",
     "text": [
      "[0.14190234 0.70364792 0.69579336 0.26957007 0.02485964 0.52231753\n",
      " 0.04229494 0.4738246  0.20071547 0.93459365 0.2055942  0.91694195\n",
      " 0.69820521 0.97219802 0.35995063 0.60318876 0.34884708 0.38602923\n",
      " 0.78630802 0.77025486 0.77374839 0.14581343 0.33461911 0.82442345\n",
      " 0.40336266 0.08500453 0.99419794 0.11052119 0.89442417 0.78109639\n",
      " 0.0996646  0.01627865 0.41048846 0.29466397 0.90539976 0.21055564\n",
      " 0.70821305 0.04472878 0.14766457 0.40377593 0.69448895 0.53011534\n",
      " 0.2540871  0.31582602 0.62169888 0.01212916 0.49347011 0.3653722\n",
      " 0.48480513 0.25333261]\n"
     ]
    }
   ],
   "source": [
    "#crea un array di 50 numeri casuali compresi tra 0 e 1\n",
    "array_casuale = np.random.random(50)\n",
    "print(array_casuale)"
   ]
  },
  {
   "cell_type": "code",
   "execution_count": 6,
   "metadata": {},
   "outputs": [
    {
     "name": "stdout",
     "output_type": "stream",
     "text": [
      "[ 0.14190234  0.90772955  1.10395662  0.88181496  0.84118617  1.54272569\n",
      "  1.26678474  1.90239602  1.83336853  2.77132835  2.24641052  3.16183991\n",
      "  3.1471848   3.62525924  3.21709349  3.66441325  3.6141532   3.85541698\n",
      "  4.4597774   4.64780588  4.85538105  4.43152772  4.82441503  5.518301\n",
      "  5.30132185  5.18704535  6.30032039  5.62072527  6.60870989  6.69946374\n",
      "  6.22211358  6.34280926  6.94110071  7.02935785  7.84417527  7.35341278\n",
      "  8.05515183  7.59574918  7.90276661  8.3629596   8.85775425  8.89746228\n",
      "  8.82551567  9.09133623  9.60129072  9.19580263  9.88122522  9.95720894\n",
      " 10.2807235  10.25333261]\n"
     ]
    }
   ],
   "source": [
    "#creazione di un nuovo array \n",
    "array_somma = arr + array_casuale\n",
    "print(array_somma)"
   ]
  },
  {
   "cell_type": "code",
   "execution_count": 7,
   "metadata": {},
   "outputs": [
    {
     "name": "stdout",
     "output_type": "stream",
     "text": [
      "272.67100767227424\n"
     ]
    }
   ],
   "source": [
    "#somma degli elementi dell'array\n",
    "somma_totale = sum(array_somma)\n",
    "print(somma_totale)"
   ]
  },
  {
   "cell_type": "code",
   "execution_count": 8,
   "metadata": {},
   "outputs": [
    {
     "name": "stdout",
     "output_type": "stream",
     "text": [
      "209.72713619893048\n"
     ]
    }
   ],
   "source": [
    "#somma degli elementi > di 5 dell'array \n",
    "elementi_maggiori_5 = np.sum(array_somma[array_somma>5])\n",
    "print(elementi_maggiori_5)"
   ]
  }
 ],
 "metadata": {
  "kernelspec": {
   "display_name": "Python 3",
   "language": "python",
   "name": "python3"
  },
  "language_info": {
   "codemirror_mode": {
    "name": "ipython",
    "version": 3
   },
   "file_extension": ".py",
   "mimetype": "text/x-python",
   "name": "python",
   "nbconvert_exporter": "python",
   "pygments_lexer": "ipython3",
   "version": "3.12.5"
  }
 },
 "nbformat": 4,
 "nbformat_minor": 2
}
