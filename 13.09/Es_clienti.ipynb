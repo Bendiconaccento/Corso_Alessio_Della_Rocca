{
 "cells": [
  {
   "cell_type": "code",
   "execution_count": 5,
   "metadata": {},
   "outputs": [
    {
     "name": "stdout",
     "output_type": "stream",
     "text": [
      "\n",
      "Inserisci i dati del cliente1:\n",
      "\n",
      "Inserisci i dati del cliente2:\n",
      "\n",
      "Inserisci i dati del cliente3:\n",
      "\n",
      "Inserisci i dati del cliente4:\n",
      "\n",
      "Inserisci i dati del cliente5:\n",
      "\n",
      "Inserisci i dati del cliente6:\n",
      "\n",
      "Inserisci i dati del cliente7:\n",
      "\n",
      "Inserisci i dati del cliente8:\n",
      "\n",
      "Inserisci i dati del cliente9:\n",
      "\n",
      "Inserisci i dati del cliente10:\n"
     ]
    }
   ],
   "source": [
    "import pandas as pd\n",
    "\n",
    "#funzione per raccogliere i dati\n",
    "def raccolta_dati():   \n",
    "\n",
    "    clienti = []\n",
    "    n_c = int(input(\"Quanti clienti vuoi inserire (>=10)? \"))\n",
    "\n",
    "    if n_c > 10:\n",
    "        print(\"Devi inseriere almeno 10 clienti\")\n",
    "        return raccolta_dati()\n",
    "    \n",
    "    for i in range(n_c):\n",
    "        print(\"\\nInserisci i dati del cliente\" + str(i + 1) + \":\")\n",
    "        numero_cliente = input(\"Numero cliente: \")\n",
    "        nome = input(\"Nome: \")\n",
    "        cognome = input(\"Cognome: \")\n",
    "        data_di_nascita = input(\"Data di nascita: \")\n",
    "        regione_residenza = input(\"Regione di residenza: \")\n",
    "\n",
    "        clienti.append({\n",
    "            \"Numero cliente\": numero_cliente,\n",
    "            \"Nome\": nome,\n",
    "            \"Cognome\": cognome,\n",
    "            \"Data di nascita\": data_di_nascita,\n",
    "            \"Regione di residenza\": regione_residenza\n",
    "    })\n",
    "\n",
    "    return clienti\n",
    "\n",
    "def creazione_df():\n",
    "\n",
    "    dati_clienti = raccolta_dati()\n",
    "\n",
    "    df = pd.DataFrame(dati_clienti)\n",
    "\n",
    "    # Save the dataframe to a CSV file\n",
    "    nome_file = input(\"Inserisci il nome del file: \")\n",
    "    df.to_csv(f\"{nome_file}.csv\", index=False)\n",
    "\n",
    "\n",
    "creazione_df()\n",
    "\n"
   ]
  },
  {
   "cell_type": "code",
   "execution_count": 6,
   "metadata": {},
   "outputs": [
    {
     "ename": "",
     "evalue": "",
     "output_type": "error",
     "traceback": [
      "\u001b[1;31mThe Kernel crashed while executing code in the current cell or a previous cell. \n",
      "\u001b[1;31mPlease review the code in the cell(s) to identify a possible cause of the failure. \n",
      "\u001b[1;31mClick <a href='https://aka.ms/vscodeJupyterKernelCrash'>here</a> for more info. \n",
      "\u001b[1;31mView Jupyter <a href='command:jupyter.viewOutput'>log</a> for further details."
     ]
    }
   ],
   "source": [
    "import datetime\n",
    "\n",
    "def calcola_età(df):\n",
    "\n",
    "    today = datetime.now()\n",
    "    data_nascita = datetime.strptime(data_nascita, \"%Y-%m-%d\")\n",
    "    età = today.year - data_nascita.year - ((today.month, today.day)) < ((data_nascita.month, data_nascita.day))\n",
    "    return età\n",
    "\n",
    "    #df[\"Età\"] = df[\"Data di Nascita\"].apply(lambda data:)\n",
    "\n",
    "    #return df\n",
    "\n",
    "def colonna_età(df):\n",
    "\n",
    "    df[\"Età\"] = df[\"Data di Nascita\"].apply(calcola_età)\n",
    "\n",
    "    df[\"Minorenne\"] = df[\"Età\"].apply(lambda x: \"X\" if x < 18 else \"\")\n",
    "\n",
    "    df[\"Maggiori di 17\"] = df[\"Età\"].apply(lambda x: \"X\" if x > 17 else \"\")\n",
    "\n",
    "    df[\"Maggiori di 20\"] = df[\"Età\"].apply(lambda x: \"X\" if x > 20 else \"\")\n",
    "\n",
    "    nome_file = input(\"Inserisci il nome del file CSV da aggiornare: \")\n",
    "    df.to_csv(f\"{nome_file}.csv\", index=False)\n",
    "    print(f\"File {nome_file}.csv aggiornato con successo!\")\n",
    "    print(df)"
   ]
  }
 ],
 "metadata": {
  "kernelspec": {
   "display_name": "Python 3",
   "language": "python",
   "name": "python3"
  },
  "language_info": {
   "codemirror_mode": {
    "name": "ipython",
    "version": 3
   },
   "file_extension": ".py",
   "mimetype": "text/x-python",
   "name": "python",
   "nbconvert_exporter": "python",
   "pygments_lexer": "ipython3",
   "version": "3.12.5"
  }
 },
 "nbformat": 4,
 "nbformat_minor": 2
}
