{
 "cells": [
  {
   "cell_type": "code",
   "execution_count": 1,
   "metadata": {},
   "outputs": [],
   "source": [
    "import numpy as np\n"
   ]
  },
  {
   "cell_type": "code",
   "execution_count": 2,
   "metadata": {},
   "outputs": [
    {
     "name": "stdout",
     "output_type": "stream",
     "text": [
      "[0.         0.09090909 0.18181818 0.27272727 0.36363636 0.45454545\n",
      " 0.54545455 0.63636364 0.72727273 0.81818182 0.90909091 1.        ]\n"
     ]
    }
   ],
   "source": [
    "arr = np.linspace(0,1,12)\n",
    "print(arr)"
   ]
  },
  {
   "cell_type": "code",
   "execution_count": 3,
   "metadata": {},
   "outputs": [
    {
     "name": "stdout",
     "output_type": "stream",
     "text": [
      "[[0.         0.09090909 0.18181818 0.27272727]\n",
      " [0.36363636 0.45454545 0.54545455 0.63636364]\n",
      " [0.72727273 0.81818182 0.90909091 1.        ]]\n"
     ]
    }
   ],
   "source": [
    "reshaped_arr = arr.reshape(3,4)\n",
    "print(reshaped_arr)"
   ]
  },
  {
   "cell_type": "code",
   "execution_count": 6,
   "metadata": {},
   "outputs": [
    {
     "name": "stdout",
     "output_type": "stream",
     "text": [
      "[[0.9004207  0.39170763 0.48905692 0.67610534]\n",
      " [0.07593007 0.28916444 0.96075775 0.1503843 ]\n",
      " [0.59378193 0.49937918 0.7014608  0.20222859]]\n"
     ]
    }
   ],
   "source": [
    "matrice_casuale = np.random.rand(3,4)\n",
    "print(matrice_casuale)"
   ]
  },
  {
   "cell_type": "code",
   "execution_count": 7,
   "metadata": {},
   "outputs": [
    {
     "name": "stdout",
     "output_type": "stream",
     "text": [
      "Somma degli elementi della matrice 3x4:  6.0\n",
      "Somma degli elemnti matrice casuale:  5.930377648045896\n"
     ]
    }
   ],
   "source": [
    "somma_matrice = np.sum(reshaped_arr)\n",
    "somma_matrice_casuale = np.sum(matrice_casuale)\n",
    "\n",
    "print(\"Somma degli elementi della matrice 3x4: \", somma_matrice)\n",
    "print(\"Somma degli elemnti matrice casuale: \", somma_matrice_casuale)"
   ]
  }
 ],
 "metadata": {
  "kernelspec": {
   "display_name": "Python 3",
   "language": "python",
   "name": "python3"
  },
  "language_info": {
   "codemirror_mode": {
    "name": "ipython",
    "version": 3
   },
   "file_extension": ".py",
   "mimetype": "text/x-python",
   "name": "python",
   "nbconvert_exporter": "python",
   "pygments_lexer": "ipython3",
   "version": "3.12.5"
  }
 },
 "nbformat": 4,
 "nbformat_minor": 2
}
